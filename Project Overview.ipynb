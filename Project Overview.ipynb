{
 "cells": [
  {
   "cell_type": "markdown",
   "id": "e8ded9c4-3c6a-46c5-a9ee-269a2e3ee592",
   "metadata": {},
   "source": [
    "## Motility of Tissue Engineered Small Intestine Generated from iPSC Can Be Measured with an Automated Calibrated Video System "
   ]
  },
  {
   "cell_type": "markdown",
   "id": "2b0dbb7b-042a-45a1-a4e6-f4e13db0b738",
   "metadata": {},
   "source": [
    "### Background"
   ]
  },
  {
   "cell_type": "markdown",
   "id": "e3b371ff-5c39-4c9b-8f4f-c70f8c92c43a",
   "metadata": {},
   "source": [
    "The enteric nervous system (ENS) and Hirschsprung disease. a | In children with Hirschsprung disease, all enteric neurons and associated glia are absent from the distal aganglionic bowel. The aganglionic bowel that lacks neurons tonically contracts, causing functional obstruction. Proximal bowel tissue with neurons becomes dilated because inhibitory motor neurons permit smooth muscle relaxation. In the transition zone, there is a reduced density of enteric neurons compared with the more proximal bowel. b | Symptoms of Hirschsprung disease primarily result from tonic bowel contractions that make it difficult for stool or gas to pass through the aganglionic zone. Aganglionosis and distension also predispose to bowel inflammation and bacterial translocation into the bloodstream. "
   ]
  },
  {
   "cell_type": "code",
   "execution_count": 20,
   "id": "9955e9af-5ecd-4385-8924-a2d350f05fe7",
   "metadata": {},
   "outputs": [
    {
     "data": {
      "text/html": [
       "<img src=\"Spence_Lab Paper.png\" width=\"1000\" height=\"1000\"/>"
      ],
      "text/plain": [
       "<IPython.core.display.Image object>"
      ]
     },
     "execution_count": 20,
     "metadata": {},
     "output_type": "execute_result"
    }
   ],
   "source": [
    "# import image module \n",
    "from IPython.display import Image \n",
    "\n",
    "# get the image \n",
    "Image(url=\"Spence_Lab Paper.png\", width=1000, height=1000) \n"
   ]
  },
  {
   "cell_type": "markdown",
   "id": "7e351bd2-8d5c-43df-b801-d9b6ec9a962e",
   "metadata": {},
   "source": [
    "In 2011, Jason Spence and Jim Wells successfully demonstrated derivation of intestinal tissue from embryonic stem cells that replicate embryonic intestinal development. During this process, hESCs in monolayer culture were exposed to Activin A to generate definitive endoderm. Exposing DE to Wnt3a and FGF4 produced small spheroidal clusters cells that would bud off from the monolayer. Embedding these mid/hindgut spheroids in matrigel and exposing them to EGF, noggin and R-spondin over the course of 4 weeks generated organoids with an intraluminal epithelium and surrounding mesenchyme that resembled primitive native intestine, termed human intestinal organoids (HIOs). "
   ]
  },
  {
   "cell_type": "markdown",
   "id": "6f2ca141-3701-47ff-ac93-e98b7d978eb2",
   "metadata": {},
   "source": [
    "### Explaining the HIO-TESI Experiment"
   ]
  },
  {
   "cell_type": "markdown",
   "id": "b1253855-0e4e-49b6-b3f9-d7e3fe557ed7",
   "metadata": {},
   "source": [
    "The Spence lab ships the generated HIOs to our lab and we implant them in vivo,leaving them to incubate for three months. About two weeks before they are ready we generate our advanced stem cell enteric neuropathy therapy called ASCENT. We take human iPSCs and directly differentiate them into vagaly specified enteric neural crest cells (ENCCs). After which we inject the ASCENT into the wall of the HIOs and let them incubate for another three months. This generates the HIO-tissue engineered small intestine (HIO-TESI). "
   ]
  },
  {
   "cell_type": "markdown",
   "id": "2728c973-2c0b-4dbd-aa12-89f42c7bf3b0",
   "metadata": {},
   "source": [
    "We then looked by H&E at cross sections to determine if ganglia were present. In the left column is HIO-TESI without supplementation of ENCC and we do not identify ganglia within the submucosa or myenteric layer between the circular and longitudinal muscles. In the right column, after ENCC supplementation, we see extensive restoration of ganglia as outlined by the red circles. Crucial to the patterning of the intestine, we see a remarkable localization of ganglia precisely between the circular muscle and longitudinal muscle similar to native intestine."
   ]
  },
  {
   "cell_type": "code",
   "execution_count": 24,
   "id": "6dd38961-c7f7-4f97-8213-cd3614dac5e6",
   "metadata": {},
   "outputs": [
    {
     "data": {
      "text/html": [
       "<img src=\"H&E_SchlievePaper.pdf\" width=\"1000\" height=\"1000\"/>"
      ],
      "text/plain": [
       "<IPython.core.display.Image object>"
      ]
     },
     "execution_count": 24,
     "metadata": {},
     "output_type": "execute_result"
    }
   ],
   "source": [
    "# get the image \n",
    "Image(url=\"H&E_SchlievePaper.pdf\", width=1000, height=1000) "
   ]
  },
  {
   "cell_type": "markdown",
   "id": "aa2d0e6a-a1d0-427f-a6f0-0425d6e94d92",
   "metadata": {},
   "source": [
    "### Contractility Study"
   ]
  },
  {
   "cell_type": "code",
   "execution_count": 25,
   "id": "ea88a4bf-8d42-4afa-bee9-0bc660149723",
   "metadata": {},
   "outputs": [
    {
     "data": {
      "text/html": [
       "<img src=\"BiorenderFigure.png\" width=\"1000\" height=\"1000\"/>"
      ],
      "text/plain": [
       "<IPython.core.display.Image object>"
      ]
     },
     "execution_count": 25,
     "metadata": {},
     "output_type": "execute_result"
    }
   ],
   "source": [
    "# get the image \n",
    "Image(url=\"BiorenderFigure.png\", width=1000, height=1000) "
   ]
  },
  {
   "cell_type": "markdown",
   "id": "562ebad2-0d24-445e-a7ec-221c35e3498d",
   "metadata": {},
   "source": [
    "A | This represents the HIO-TESI right after explantation showing contraction with both enteric neurons and interstitial cells of cajal. "
   ]
  },
  {
   "cell_type": "markdown",
   "id": "04e578be-9b66-4371-99cd-f3d75429b363",
   "metadata": {},
   "source": [
    "B | After the HIO-TESI is treated with methylene blue we should see suspension of the interstitial cells of Cajal. "
   ]
  }
 ],
 "metadata": {
  "kernelspec": {
   "display_name": "Python 3 (ipykernel)",
   "language": "python",
   "name": "python3"
  },
  "language_info": {
   "codemirror_mode": {
    "name": "ipython",
    "version": 3
   },
   "file_extension": ".py",
   "mimetype": "text/x-python",
   "name": "python",
   "nbconvert_exporter": "python",
   "pygments_lexer": "ipython3",
   "version": "3.9.12"
  }
 },
 "nbformat": 4,
 "nbformat_minor": 5
}
