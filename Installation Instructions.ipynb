{
 "cells": [
  {
   "cell_type": "code",
   "execution_count": 2,
   "id": "684000ac-b4ec-4d93-aa83-4dfb1fa68aad",
   "metadata": {},
   "outputs": [
    {
     "data": {
      "text/html": [
       "<img src=\"Tracker_logo.png\" width=\"500\" height=\"500\"/>"
      ],
      "text/plain": [
       "<IPython.core.display.Image object>"
      ]
     },
     "execution_count": 2,
     "metadata": {},
     "output_type": "execute_result"
    }
   ],
   "source": [
    "# import image module \n",
    "from IPython.display import Image \n",
    "\n",
    "# get the image \n",
    "Image(url=\"Tracker_logo.png\", width=500, height=500) "
   ]
  },
  {
   "cell_type": "markdown",
   "id": "63b34f72-195c-4c45-9709-361d32e64b40",
   "metadata": {},
   "source": [
    "https://tracker.physlets.org"
   ]
  },
  {
   "cell_type": "markdown",
   "id": "29842da3-01bd-467f-a11f-de908b777485",
   "metadata": {},
   "source": [
    "Free, open source software developed by Open Source Physics "
   ]
  },
  {
   "cell_type": "markdown",
   "id": "6cf8fa8e-b22c-4bac-bfc6-f77fb213b61b",
   "metadata": {},
   "source": [
    "### Features - Specific to our needs"
   ]
  },
  {
   "cell_type": "markdown",
   "id": "613acdd8-9bc3-4a19-8477-7e124cb2cf92",
   "metadata": {},
   "source": [
    "* Choose points on the screen and the tool will track its motion over time and provide a graph of coordinates\n",
    "* Set calibration specifications to have consistent units (cm) between varying videos\n",
    "* Able to extract the data points according to time"
   ]
  },
  {
   "cell_type": "code",
   "execution_count": 5,
   "id": "e8adcab4-4273-494e-8cc5-dfe6eb96c5b1",
   "metadata": {},
   "outputs": [
    {
     "data": {
      "text/html": [
       "<img src=\"Tracker Screenshot.png\" width=\"1000\" height=\"1000\"/>"
      ],
      "text/plain": [
       "<IPython.core.display.Image object>"
      ]
     },
     "execution_count": 5,
     "metadata": {},
     "output_type": "execute_result"
    }
   ],
   "source": [
    "# get the image \n",
    "Image(url=\"Tracker Screenshot.png\", width=1000, height=1000) "
   ]
  },
  {
   "cell_type": "markdown",
   "id": "3555e723-131d-40f4-9268-569fc681ecda",
   "metadata": {},
   "source": [
    "Figure 1. Tracker software measuring HIO-TESI in a 6-well plate. The Tracker program is a video analysis and modeling tool built on the Open Source Physics (OSP) Java framework.  The videos are uploaded and the size calibrated to the diameter of the well according to the manufacturer specification with the blue calibration stick. Points of mass, labeled mass a- mass f, are picked at random at points of high contract. This high contrast area becomes the template that all frames at that point are referenced to and can be visualized in the Autotracker window. The program then searches each frame of the video for images that match the template, and assigns a match score. Match scores above 3 indicate a good match to the template. Any match below 3 can be reviewed by the user or skipped. The movement of this mass point is plotted as if on a coordinate plane, assigning X and Y values to the distance it moves over time. The template area of mass point F (black) can be seen in the Autotracker window, along with the corresponding coordinates and plots.  A control point on the side of the dish (red arrow) measured any movement of the dish or vibrations that caused the dish to move. "
   ]
  },
  {
   "cell_type": "code",
   "execution_count": null,
   "id": "8ebafe48-f5e8-42c2-a42d-34a593c3419d",
   "metadata": {},
   "outputs": [],
   "source": []
  }
 ],
 "metadata": {
  "kernelspec": {
   "display_name": "Python 3 (ipykernel)",
   "language": "python",
   "name": "python3"
  },
  "language_info": {
   "codemirror_mode": {
    "name": "ipython",
    "version": 3
   },
   "file_extension": ".py",
   "mimetype": "text/x-python",
   "name": "python",
   "nbconvert_exporter": "python",
   "pygments_lexer": "ipython3",
   "version": "3.9.12"
  }
 },
 "nbformat": 4,
 "nbformat_minor": 5
}
